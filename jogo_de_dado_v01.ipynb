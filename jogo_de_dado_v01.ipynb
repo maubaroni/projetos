{
 "cells": [
  {
   "cell_type": "markdown",
   "metadata": {},
   "source": [
    "![Alt](https://encrypted-tbn0.gstatic.com/images?q=tbn%3AANd9GcRV6bu9pfnMBgesdaFYXO8bOAHjnJLRSJAjCw&usqp=CAU)\n",
    "# ***JOGO DE DADOS***\n",
    "### ***Teste sua sorte !!!***"
   ]
  },
  {
   "cell_type": "markdown",
   "metadata": {},
   "source": [
    "# Sobre o Jogo\n",
    "\n",
    "        Lance a sorte no dado e obtenha o maior número que seu oponente Computador. A cada rodada, o ganhador soma 10 pontos e em caso de empate não haverá soma de pontos, devendo iniciar a próxima rodada. O competidor que atingir 50 pontos será o vencedor do jogo."
   ]
  },
  {
   "cell_type": "code",
   "execution_count": 2,
   "metadata": {},
   "outputs": [],
   "source": [
    "import random\n",
    "from tqdm.auto import tqdm\n",
    "import numpy as np\n",
    "from IPython.display import display\n",
    "import ipywidgets as widgets"
   ]
  },
  {
   "cell_type": "markdown",
   "metadata": {},
   "source": [
    "# **Início:**\n",
    "\n",
    "##### *O jogo inicia solicitando o nome do jogador e na sequência exige que o jogador pressione a tecla enter para lançar seu dado a sorte.*"
   ]
  },
  {
   "cell_type": "code",
   "execution_count": 3,
   "metadata": {},
   "outputs": [],
   "source": [
    "def dado_player():\n",
    "    '''Esta funcao executa a jogada do dado para o jogador, atraves do metodo randomico definido \\n para buscar valores aleatorios de 1 a 6'''\n",
    "    player = random.randrange(1,7)    \n",
    "    input(\"Press ENTER for roll the dice!!!\")\n",
    "    print('player: I goten number', player)\n",
    "    return player"
   ]
  },
  {
   "cell_type": "markdown",
   "metadata": {},
   "source": [
    "##### *Imediatamente após a jogada do usuário, será executada a função que exibe a jogada do computador*"
   ]
  },
  {
   "cell_type": "code",
   "execution_count": 4,
   "metadata": {},
   "outputs": [],
   "source": [
    "def dado_computer():\n",
    "    '''Esta funcao executa a jogada do dado para o computador, atraves do metodo randomico definido \\n para buscar valores aleatorios de 1 a 6'''\n",
    "    computer = random.randrange(1,7)\n",
    "\n",
    "    print('computer: And I took number', computer, '\\n')\n",
    "    return computer"
   ]
  },
  {
   "cell_type": "markdown",
   "metadata": {},
   "source": [
    "##### *Neste momento é verificado os valores do dado de cada jogador e o vencedor da rodada ganha 10 pontos. Esta sequência é repetida quantas vezes foram necessárias até que o primeiro jogador a atingir o saldo de 50 pontos, seja declarada o vencedor do jogo.*"
   ]
  },
  {
   "cell_type": "code",
   "execution_count": 5,
   "metadata": {
    "scrolled": true
   },
   "outputs": [],
   "source": [
    "def jogo_dado():\n",
    "    '''Esta funcao executa a serie de comparacoes \\n A cada jogada será comparado os valores atingidos pelo usuario e computador atribuindo ao vencedor 10 pontos \\n Em caso de empate, nao ha vencedor na rodada, devendo passar para a seguinte rodada \\n O jogador que primeiro atingir o score definido sera o vencedor do jogo'''\n",
    "    ScorePlayer01 = 0\n",
    "    ScoreComputer = 0\n",
    "    rodada = 0\n",
    "    \n",
    "    Player_Name=input('Enter your name:')\n",
    "    \n",
    "    while ScorePlayer01 < 50 and ScoreComputer < 50:\n",
    "    \n",
    "        valor_player = dado_player()\n",
    "        valor_computer = dado_computer()\n",
    "    \n",
    "        if valor_player == valor_computer:\n",
    "            print('There was no winner, play again!','\\n')\n",
    "        \n",
    "        elif valor_player > valor_computer:\n",
    "            print(f'     {Player_Name} WON!','\\n')\n",
    "            ScorePlayer01 = ScorePlayer01 + 10\n",
    "            ScoreComputer = ScoreComputer + 0\n",
    "  \n",
    "        elif valor_player < valor_computer:\n",
    "            print('     computer WON!','\\n')\n",
    "            ScorePlayer01 = ScorePlayer01 + 0\n",
    "            ScoreComputer = ScoreComputer + 10\n",
    "    \n",
    "        rodada += 1\n",
    "    \n",
    "        print('     Score of the match -','ROUND:',rodada)\n",
    "        print('     ',Player_Name,':', ScorePlayer01)\n",
    "        print('     ','computer',':', ScoreComputer, '\\n')\n",
    "\n",
    "    \n",
    "    if ScorePlayer01 == 50:\n",
    "        print(f'Congratulation {Player_Name}','you are the champion of the match!','\\n')\n",
    "        \n",
    "    elif ScoreComputer == 50:\n",
    "        print(f'Congratulation computer, you are the champion of the match!','\\n')\n",
    "    \n",
    "    jogar_novamente()\n",
    "                  \n",
    "          \n",
    "          \n",
    "          \n",
    "\n",
    "    "
   ]
  },
  {
   "cell_type": "markdown",
   "metadata": {},
   "source": [
    "##### *Após declaração do vencedor do jogo, você poderá optar por jogar novamente ou encerrar a partida.*"
   ]
  },
  {
   "cell_type": "code",
   "execution_count": 6,
   "metadata": {},
   "outputs": [],
   "source": [
    "def jogar_novamente():\n",
    "    '''Esta funcao pergunta ao jogador se ele deseja jogar novamente ou encerrar a partida, \\n no entanto foi configurado para que o usuário apresente apenas a resposta correta YES ou NO como respostas aceitas'''\n",
    "    \n",
    "    ans = input('Do you want to play again? \\n Answer: YES or NO     \\n')\n",
    "    answer = ans.upper()\n",
    "    \n",
    "    if answer == 'YES':\n",
    "        return jogo_dado()\n",
    "        \n",
    "    elif answer == 'NO':\n",
    "        print('Thank You and come back soon!')\n",
    "        \n",
    "    elif answer != '' or '\\n':\n",
    "        print('Please, you must answer YES or NO.','\\n')\n",
    "        return jogar_novamente()\n"
   ]
  },
  {
   "cell_type": "code",
   "execution_count": null,
   "metadata": {},
   "outputs": [],
   "source": [
    "jogo_dado()"
   ]
  },
  {
   "cell_type": "code",
   "execution_count": null,
   "metadata": {},
   "outputs": [],
   "source": []
  }
 ],
 "metadata": {
  "kernelspec": {
   "display_name": "Python 3",
   "language": "python",
   "name": "python3"
  },
  "language_info": {
   "codemirror_mode": {
    "name": "ipython",
    "version": 3
   },
   "file_extension": ".py",
   "mimetype": "text/x-python",
   "name": "python",
   "nbconvert_exporter": "python",
   "pygments_lexer": "ipython3",
   "version": "3.8.3"
  }
 },
 "nbformat": 4,
 "nbformat_minor": 4
}
