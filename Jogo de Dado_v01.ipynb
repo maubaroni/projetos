{
 "cells": [
  {
   "cell_type": "markdown",
   "metadata": {},
   "source": [
    "# <font color='blue'>***JOGO DE DADOS***\n",
    "## <font color='green'>***Teste sua sorte !!!***</font>\n",
    "![Alt](https://encrypted-tbn0.gstatic.com/images?q=tbn%3AANd9GcRV6bu9pfnMBgesdaFYXO8bOAHjnJLRSJAjCw&usqp=CAU)"
   ]
  },
  {
   "cell_type": "markdown",
   "metadata": {},
   "source": [
    "# Sobre o Jogo\n",
    "\n",
    "        Lance a sorte no dado e obtenha o maior número que seu oponente Computador. A cada rodada, o ganhador soma 10 pontos e em caso de empate não haverá soma de pontos, devendo iniciar a próxima rodada. O competidor que atingir 50 pontos será o vencedor do jogo."
   ]
  },
  {
   "cell_type": "code",
   "execution_count": 1,
   "metadata": {},
   "outputs": [],
   "source": [
    "import random\n",
    "from tqdm.auto import tqdm\n",
    "import numpy as np\n",
    "from IPython.display import display\n",
    "import ipywidgets as widgets"
   ]
  },
  {
   "cell_type": "code",
   "execution_count": 2,
   "metadata": {},
   "outputs": [],
   "source": [
    "def clicked(arg):\n",
    "    return True\n",
    "\n",
    "def botao():\n",
    "    button_download = widgets.Button(description = 'Test Button')   \n",
    "    button_download.on_click(clicked)\n",
    "    display(button_download)\n"
   ]
  },
  {
   "cell_type": "markdown",
   "metadata": {},
   "source": [
    "# **Início:**\n",
    "\n",
    "##### *O jogo inicia solicitando o nome do jogador e na sequência exige que o jogador pressione a tecla enter para lançar seu dado a sorte.*"
   ]
  },
  {
   "cell_type": "code",
   "execution_count": 3,
   "metadata": {},
   "outputs": [],
   "source": [
    "def dado_player():\n",
    "    '''Esta funcao executa a jogada do dado para o jogador, atraves do metodo randomico definido \\n para buscar valores aleatorios de 1 a 6'''\n",
    "    player = random.randrange(1,7)    \n",
    "    input(\"Press ENTER for roll the dice!!!\")\n",
    "    print('player: I goten number', player)\n",
    "    return player"
   ]
  },
  {
   "cell_type": "markdown",
   "metadata": {},
   "source": [
    "##### *Imediatamente após a jogada do usuário, será executada a função que exibe a jogada do computador*"
   ]
  },
  {
   "cell_type": "code",
   "execution_count": 4,
   "metadata": {},
   "outputs": [],
   "source": [
    "def dado_computer():\n",
    "    '''Esta funcao executa a jogada do dado para o computador, atraves do metodo randomico definido \\n para buscar valores aleatorios de 1 a 6'''\n",
    "    computer = random.randrange(1,7)\n",
    "\n",
    "    print('computer: And I took number', computer, '\\n')\n",
    "    return computer"
   ]
  },
  {
   "cell_type": "code",
   "execution_count": 9,
   "metadata": {
    "scrolled": true
   },
   "outputs": [],
   "source": [
    "def jogo_dado():\n",
    "    '''Esta funcao executa a executa a serie de comparacoes \\n A cada jogada será comparado os valores atingidos pelo usuario e computador atribuindo ao vencedor 10 pontos \\n Em caso de empate, nao ha vencedor na rodada, devendo passar para a seguinte rodada \\n O jogador que primeiro atingir o score definido sera o vencedor do jogo'''\n",
    "    ScorePlayer01 = 0\n",
    "    ScoreComputer = 0\n",
    "    rodada = 0\n",
    "    \n",
    "    print()\n",
    "    \n",
    "    Player_Name=input('Enter your name:')\n",
    "    \n",
    "    while ScorePlayer01 < 50 and ScoreComputer < 50:\n",
    "        \n",
    "        #botao()\n",
    "    \n",
    "        valor_player = dado_player()\n",
    "        valor_computer = dado_computer()\n",
    "    \n",
    "        if valor_player == valor_computer:\n",
    "            print('There was no winner, play again!','\\n')\n",
    "        \n",
    "        elif valor_player > valor_computer:\n",
    "            print(f'     {Player_Name} WON!','\\n')\n",
    "            ScorePlayer01 = ScorePlayer01 + 10\n",
    "            ScoreComputer = ScoreComputer + 0\n",
    "  \n",
    "        elif valor_player < valor_computer:\n",
    "            print('     computer WON!','\\n')\n",
    "            ScorePlayer01 = ScorePlayer01 + 0\n",
    "            ScoreComputer = ScoreComputer + 10\n",
    "    \n",
    "        rodada += 1\n",
    "    \n",
    "        print('     Score of the match -','ROUND:',rodada)\n",
    "        print('     ',Player_Name,':', ScorePlayer01)\n",
    "        print('     ','computer',':', ScoreComputer, '\\n')\n",
    "\n",
    "    \n",
    "    if ScorePlayer01 == 50:\n",
    "        print(f'Congratulation {Player_Name}','you are the champion of the match!','\\n')\n",
    "        \n",
    "    elif ScoreComputer == 50:\n",
    "        print(f'Congratulation computer, you are the champion of the match!','\\n')\n",
    "        \n",
    "        \n",
    "    ans = input('Do you want to play again? \\n YES or NO :     ')\n",
    "    answer = ans.upper()\n",
    "    \n",
    "    if answer == 'YES':\n",
    "        return jogo_dado()\n",
    "        \n",
    "    elif answer == 'NO':\n",
    "        print('Thank You and come back soon!')\n",
    "   \n",
    "          \n",
    "          \n",
    "          \n",
    "          \n",
    "\n",
    "    "
   ]
  },
  {
   "cell_type": "code",
   "execution_count": 76,
   "metadata": {},
   "outputs": [],
   "source": [
    "def jogar_novamente():\n",
    "\n",
    "    ans = input('Do you want to play again? \\n YES or NO :     ')\n",
    "    if ans != 'YES' or 'NO':\n",
    "        print('Voce digitou um valor não valido')\n",
    "        \n",
    "        return jogar_novamente()\n",
    "    \n",
    "    answer = ans.upper()\n",
    "    \n",
    "    if answer == 'YES':\n",
    "        return jogo_dado()\n",
    "        \n",
    "    elif answer == 'NO':\n",
    "        print('Thank You and come back soon!')"
   ]
  },
  {
   "cell_type": "code",
   "execution_count": 78,
   "metadata": {},
   "outputs": [
    {
     "name": "stdout",
     "output_type": "stream",
     "text": [
      "Do you want to play again? \n",
      " YES or NO :     YES\n"
     ]
    }
   ],
   "source": [
    "jogar_novamente()"
   ]
  },
  {
   "cell_type": "code",
   "execution_count": 10,
   "metadata": {},
   "outputs": [
    {
     "name": "stdout",
     "output_type": "stream",
     "text": [
      "\n",
      "Enter your name:d\n",
      "Press ENTER for roll the dice!!!\n",
      "player: I goten number 5\n",
      "computer: And I took number 1 \n",
      "\n",
      "     d WON! \n",
      "\n",
      "     Score of the match - ROUND: 1\n",
      "      d : 10\n",
      "      computer : 0 \n",
      "\n",
      "Press ENTER for roll the dice!!!\n",
      "player: I goten number 3\n",
      "computer: And I took number 4 \n",
      "\n",
      "     computer WON! \n",
      "\n",
      "     Score of the match - ROUND: 2\n",
      "      d : 10\n",
      "      computer : 10 \n",
      "\n",
      "Press ENTER for roll the dice!!!\n",
      "player: I goten number 3\n",
      "computer: And I took number 1 \n",
      "\n",
      "     d WON! \n",
      "\n",
      "     Score of the match - ROUND: 3\n",
      "      d : 20\n",
      "      computer : 10 \n",
      "\n",
      "Press ENTER for roll the dice!!!\n",
      "player: I goten number 4\n",
      "computer: And I took number 4 \n",
      "\n",
      "There was no winner, play again! \n",
      "\n",
      "     Score of the match - ROUND: 4\n",
      "      d : 20\n",
      "      computer : 10 \n",
      "\n",
      "Press ENTER for roll the dice!!!\n",
      "player: I goten number 6\n",
      "computer: And I took number 6 \n",
      "\n",
      "There was no winner, play again! \n",
      "\n",
      "     Score of the match - ROUND: 5\n",
      "      d : 20\n",
      "      computer : 10 \n",
      "\n",
      "Press ENTER for roll the dice!!!\n",
      "player: I goten number 3\n",
      "computer: And I took number 3 \n",
      "\n",
      "There was no winner, play again! \n",
      "\n",
      "     Score of the match - ROUND: 6\n",
      "      d : 20\n",
      "      computer : 10 \n",
      "\n",
      "Press ENTER for roll the dice!!!\n",
      "player: I goten number 4\n",
      "computer: And I took number 1 \n",
      "\n",
      "     d WON! \n",
      "\n",
      "     Score of the match - ROUND: 7\n",
      "      d : 30\n",
      "      computer : 10 \n",
      "\n",
      "Press ENTER for roll the dice!!!\n",
      "player: I goten number 2\n",
      "computer: And I took number 1 \n",
      "\n",
      "     d WON! \n",
      "\n",
      "     Score of the match - ROUND: 8\n",
      "      d : 40\n",
      "      computer : 10 \n",
      "\n",
      "Press ENTER for roll the dice!!!\n",
      "player: I goten number 2\n",
      "computer: And I took number 5 \n",
      "\n",
      "     computer WON! \n",
      "\n",
      "     Score of the match - ROUND: 9\n",
      "      d : 40\n",
      "      computer : 20 \n",
      "\n",
      "Press ENTER for roll the dice!!!\n",
      "player: I goten number 6\n",
      "computer: And I took number 5 \n",
      "\n",
      "     d WON! \n",
      "\n",
      "     Score of the match - ROUND: 10\n",
      "      d : 50\n",
      "      computer : 20 \n",
      "\n",
      "Congratulation d you are the champion of the match! \n",
      "\n",
      "Do you want to play again? \n",
      " YES or NO :     no\n",
      "Thank You and come back soon!\n"
     ]
    }
   ],
   "source": [
    "jogo_dado()"
   ]
  }
 ],
 "metadata": {
  "kernelspec": {
   "display_name": "Python 3",
   "language": "python",
   "name": "python3"
  },
  "language_info": {
   "codemirror_mode": {
    "name": "ipython",
    "version": 3
   },
   "file_extension": ".py",
   "mimetype": "text/x-python",
   "name": "python",
   "nbconvert_exporter": "python",
   "pygments_lexer": "ipython3",
   "version": "3.8.3"
  }
 },
 "nbformat": 4,
 "nbformat_minor": 4
}
